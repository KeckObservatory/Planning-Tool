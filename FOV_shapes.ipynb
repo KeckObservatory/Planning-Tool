{
 "cells": [
  {
   "cell_type": "code",
   "execution_count": 32,
   "id": "5d931115-020b-42a4-91db-4e5ee6753852",
   "metadata": {},
   "outputs": [],
   "source": [
    "import numpy as np\n",
    "from shapely.geometry.polygon import LinearRing, Polygon\n",
    "import json\n",
    "import math\n",
    "from datetime import datetime\n",
    "from shapely import box, LineString, normalize, Polygon, Point"
   ]
  },
  {
   "cell_type": "code",
   "execution_count": 67,
   "id": "106cf0e1-de14-421e-ad28-b52629a68780",
   "metadata": {},
   "outputs": [],
   "source": [
    "def make_circle(radius = 1, shape=1, x0=0, y0=0, nPoints=500):\n",
    "    theta = np.linspace(0,2*np.pi, nPoints)\n",
    "    xx = radius * np.sin(theta) + x0\n",
    "    yy = radius * np.cos(theta) + y0\n",
    "    segs = []\n",
    "    for idx, (x, y) in enumerate(zip(xx, yy)):\n",
    "        if idx<1:\n",
    "            px, py = x, y\n",
    "            continue\n",
    "        seg = (px, py, x, y, shape)\n",
    "        segs.append(seg)\n",
    "        px, py = x, y\n",
    "    return segs\n",
    "make_square = lambda l, x0=0, y0=0: Polygon([ Point([l*ver[0], l*ver[1]]) for ver in [(-1, -1), (1, -1), (1, 1), (-1, 1)]])\n",
    "    "
   ]
  },
  {
   "cell_type": "code",
   "execution_count": 68,
   "id": "2024d0ca-434e-4a09-8c38-3db038b84c7b",
   "metadata": {},
   "outputs": [
    {
     "data": {
      "image/svg+xml": [
       "<svg xmlns=\"http://www.w3.org/2000/svg\" xmlns:xlink=\"http://www.w3.org/1999/xlink\" width=\"300\" height=\"300\" viewBox=\"-396.57599999999996 -396.57599999999996 793.1519999999999 793.1519999999999\" preserveAspectRatio=\"xMinYMin meet\"><g transform=\"matrix(1,0,0,-1,0,0.0)\"><polyline fill=\"none\" stroke=\"#66cc99\" stroke-width=\"5.28768\" points=\"-177.3868472823484,-367.2 -186.9564208647834,-362.6448630512088 -209.58037576194982,-350.0572325998706 -231.3604244560104,-336.0600452233718 -252.20886637800695,-320.70966265505723 -272.04175221064696,-304.06789546770796 -290.7792219225761,-286.2017541841791 -308.34582633653736,-267.18317944967635 -324.6708309365795,-247.08875235216797 -339.6885006909867,-225.99938605737307 -353.33836474405103,-203.99999999999983 -365.56545991086506,-181.17917794315576 -367.2,-177.60003439698835 -367.2,177.41859697635954 -359.63297228661344,192.68659850725462 -346.6879754194019,215.10799078508498 -332.346988436537,236.66321910504877 -316.6677574310367,257.2654881704853 -299.71341713227355,276.83183991530996 -281.5522366847017,295.28348754686857 -262.25734475210817,312.54613279254295 -241.90643505429318,328.55026507267195 -220.58145352188376,343.2314413951219 -198.3682683289913,356.5305458444723 -177.67241459385306,367.2 177.67241459385295,367.2 198.36826832899123,356.5305458444723 220.58145352188382,343.2314413951219 241.9064350542933,328.55026507267195 262.257344752108,312.546132792543 281.5522366847017,295.28348754686857 299.7134171322736,276.83183991530996 316.66775743103676,257.2654881704852 332.346988436537,236.66321910504885 346.6879754194019,215.10799078508498 359.6329722866135,192.68659850725456 367.2,177.4185969763595 367.2,-177.6000343969884 365.56545991086506,-181.17917794315585 353.3383647440509,-204.00000000000009 339.68850069098676,-225.999386057373 324.6708309365795,-247.08875235216806 308.34582633653736,-267.1831794496763 290.77922192257597,-286.20175418417915 272.041752210647,-304.0678954677079 252.20886637800686,-320.7096626550573 231.36042445601052,-336.06004522337173 209.58037576194977,-350.05723259987064 186.9564208647835,-362.64486305120874 177.38684728234836,-367.2 -177.3868472823484,-367.2\" opacity=\"0.8\" /></g></svg>"
      ],
      "text/plain": [
       "<LINEARRING (-177.387 -367.2, -186.956 -362.645, -209.58 -350.057, -231.36 -...>"
      ]
     },
     "execution_count": 68,
     "metadata": {},
     "output_type": "execute_result"
    }
   ],
   "source": [
    "def make_mosfire_fov(l=6.12, r=3.4, shape=1):\n",
    "    circ = Polygon([Point(seg[0:2]) for seg in make_circle(r * 60 * 2 , 1, 0, 0, 100)])\n",
    "    square = make_square(l * 60  )\n",
    "    mf = square.intersection(circ)\n",
    "    segs = []\n",
    "\n",
    "    for idx, (x, y) in enumerate(zip(mf.exterior.xy[0], mf.exterior.xy[1])):\n",
    "        if idx<1:\n",
    "            px, py = x, y\n",
    "            continue\n",
    "        seg = (px, py, x, y, shape)\n",
    "        segs.append(seg)\n",
    "        px, py = x, y\n",
    "    return segs, mf\n",
    "segs, mf = make_mosfire_fov()\n",
    "    \n",
    "strSegs = [\" \".join(x)+'\\n' for x in [[str(el) for el in seg] for seg in segs]]\n",
    "mosfireshape = [[seg[0], seg[1]] for seg in segs]\n",
    "mf.exterior"
   ]
  },
  {
   "cell_type": "code",
   "execution_count": 82,
   "id": "55c384fb",
   "metadata": {},
   "outputs": [
    {
     "data": {
      "image/svg+xml": [
       "<svg xmlns=\"http://www.w3.org/2000/svg\" xmlns:xlink=\"http://www.w3.org/1999/xlink\" width=\"100.0\" height=\"100.0\" viewBox=\"-8.5 -8.5 60.75 60.75\" preserveAspectRatio=\"xMinYMin meet\"><g transform=\"matrix(1,0,0,-1,0,43.75)\"><path fill-rule=\"evenodd\" fill=\"#66cc99\" stroke=\"#555555\" stroke-width=\"1.215\" opacity=\"0.6\" d=\"M 5.774247078195542,-2.391771452281811 L 5.512007902177219,-2.946229605162485 L 5.196685076890907,-3.4723139563725134 L 4.831315333517106,-3.964958026022784 L 4.419417382415922,-4.419417382415921 L 3.964958026022784,-4.831315333517106 L 3.4723139563725143,-5.196685076890907 L 2.946229605162486,-5.512007902177219 L 2.3917714522818114,-5.774247078195542 L 1.8142792328403896,-5.980877098326306 L 1.219314512600802,-6.129908002520191 L 0.6126071270597548,-6.21990454170123 L 3.827021247335479e-16,-6.25 L -0.6126071270597541,-6.219904541701231 L -1.2193145126008011,-6.129908002520191 L -1.8142792328403885,-5.980877098326306 L -2.391771452281811,-5.774247078195542 L -2.9462296051624857,-5.512007902177219 L -3.472313956372512,-5.196685076890909 L -3.9649580260227837,-4.831315333517107 L -4.419417382415921,-4.419417382415922 L -4.831315333517106,-3.964958026022784 L -5.196685076890908,-3.4723139563725134 L -5.512007902177219,-2.9462296051624866 L -5.774247078195542,-2.391771452281812 L -5.980877098326305,-1.8142792328403898 L -6.129908002520191,-1.2193145126008038 L -6.21990454170123,-0.6126071270597552 L -6.25,-7.654042494670958e-16 L -6.219904541701231,0.6126071270597537 L -6.129908002520191,1.2193145126008023 L -5.980877098326306,1.8142792328403883 L -5.774247078195542,2.3917714522818105 L -5.512007902177219,2.946229605162485 L -5.196685076890909,3.472313956372512 L -4.831315333517107,3.964958026022783 L -4.419417382415923,4.419417382415921 L -3.9649580260227872,4.831315333517104 L -3.4723139563725134,5.196685076890907 L -2.9462296051624866,5.512007902177219 L -2.3917714522818145,5.774247078195541 L -2.2079999208216643,5.840001583566714 L 0.0,50.0 L 2.2079999208216643,5.840001583566715 L 2.3917714522818123,5.7742470781955415 L 2.9462296051624848,5.512007902177219 L 3.4723139563725116,5.196685076890909 L 3.964958026022785,4.8313153335171055 L 4.419417382415921,4.419417382415923 L 4.831315333517104,3.9649580260227872 L 5.196685076890907,3.4723139563725134 L 5.512007902177218,2.946229605162487 L 5.774247078195541,2.391771452281815 L 5.840001583566715,2.2079999208216643 L 50.0,0.0 L 5.840001583566715,-2.2079999208216643 L 5.774247078195542,-2.391771452281811 z\" /></g></svg>"
      ],
      "text/plain": [
       "<POLYGON ((5.774 -2.392, 5.512 -2.946, 5.197 -3.472, 4.831 -3.965, 4.419 -4....>"
      ]
     },
     "execution_count": 82,
     "metadata": {},
     "output_type": "execute_result"
    }
   ],
   "source": [
    "# Generate the compass rose\n",
    "import shapely.geometry as sg\n",
    "import matplotlib.pyplot as plt\n",
    "from shapely.affinity import rotate, scale\n",
    "\n",
    "def create_compass_rose(center, radius, baseWidthRat=0.1):\n",
    "    \"\"\"Creates a Shapely compass rose polygon.\"\"\"\n",
    "    x, y = center\n",
    "\n",
    "    # Create the main circle\n",
    "    circle = sg.Point(center).buffer(radius/8)\n",
    "    baseWidth = radius * baseWidthRat\n",
    "\n",
    "    # Create the N, S, E, W arms\n",
    "    north = sg.Polygon([(x - baseWidth/2 , y), (x, y + radius), (x + baseWidth/2, y), (x - baseWidth/2, y)])\n",
    "    west = rotate(north, 90, center)\n",
    "    south = rotate(north, 180, center)\n",
    "    east = rotate(north, 270, center)\n",
    "\n",
    "    # Create the NE, NW, SE, SW arms\n",
    "    mag = .707\n",
    "    ne = rotate( scale(north, mag, mag), -45, center)\n",
    "    nw = rotate( scale(north, mag, mag), 45, center)\n",
    "    se = rotate( scale(north, mag, mag), 45+180, center)\n",
    "    sw = rotate( scale(north, mag, mag), -45+180, center)\n",
    "\n",
    "    # Combine all the elements\n",
    "    # compass_rose = circle.union(north).union(south).union(east).union(west).union(ne).union(nw).union(se).union(sw)\n",
    "    compass_rose = circle.union(north).union(east)\n",
    "\n",
    "    return compass_rose\n",
    "\n",
    "# Create the compass rose\n",
    "compass = create_compass_rose((0, 0), 50)\n",
    "compasscoords = list(zip(compass.exterior.xy[0], compass.exterior.xy[1]))\n",
    "\n",
    "# Plot the compass rose\n",
    "compass"
   ]
  },
  {
   "cell_type": "code",
   "execution_count": null,
   "id": "b7d55b3a-08f4-4087-bc5a-3eac5867fa76",
   "metadata": {},
   "outputs": [],
   "source": [
    "c1, c2 = make_circle(136, 2, 0, 0, 200), make_circle(65, 3, 0, 0, 200)\n",
    "segs = [ *c1, *c2]\n",
    "kcwishape = [ [ [x[0], x[1]] for x in c1 ], [ [ x[0], x[1] ] for x in c2 ] ]\n",
    "\n",
    "instGeoJSON = { \"type\": \"FeatureCollection\",\n",
    "    \"features\": [\n",
    "{ \n",
    "  \"type\": \"Feature\",\n",
    "  \"properties\": {\"instrument\": \"KCWI\", \"type\": \"FOV\", \"units\": \"arcsec\"},\n",
    "  \"geometry\": {\n",
    "    \"type\": \"MultiPolygon\",\n",
    "    \"coordinates\": \n",
    "      kcwishape\n",
    "    }\n",
    "},\n",
    "        { \n",
    "  \"type\": \"Feature\",\n",
    "  \"properties\": {\"instrument\": \"MOSFIRE\", \"type\": \"FOV\", \"units\": \"pixels\"},\n",
    "  \"geometry\": {\n",
    "    \"type\": \"MultiPolygon\",\n",
    "    \"coordinates\": \n",
    "      [mosfireshape]\n",
    "    }\n",
    "}\n",
    ",\n",
    "        { \n",
    "  \"type\": \"Feature\",\n",
    "  \"properties\": {\"name\": \"CompassRose\", \"type\": \"static shape\"},\n",
    "  \"geometry\": {\n",
    "    \"type\": \"MultiPolygon\",\n",
    "    \"coordinates\": \n",
    "      [compasscoords]\n",
    "    }\n",
    "}\n",
    "    ]}\n",
    "with open('FEATURES.json', 'w') as f:\n",
    "    json.dump(instGeoJSON, f, indent = 2)"
   ]
  },
  {
   "cell_type": "code",
   "execution_count": 60,
   "id": "03744d7a-9258-4aa0-8aff-5f3fbcc6d037",
   "metadata": {},
   "outputs": [
    {
     "name": "stdout",
     "output_type": "stream",
     "text": [
      "2024-04-04 08:48:41.510667\n",
      "41.1313360730198\n",
      "93.71508772051209\n",
      "[[324.28348417]]\n"
     ]
    }
   ],
   "source": [
    "import numpy as np\n",
    "import matplotlib.pyplot as plt\n",
    "from astropy.visualization import astropy_mpl_style, quantity_support\n",
    "plt.style.use(astropy_mpl_style)\n",
    "quantity_support() \n",
    "import astropy.units as u\n",
    "from astropy.time import Time\n",
    "from datetime import datetime, timedelta\n",
    "from astropy.coordinates import SkyCoord, EarthLocation, AltAz\n",
    "import math\n",
    "import astroplan as apl\n",
    "KECK_LAT = 19.8260 #[deg]\n",
    "KECK_ELEVATION = 4.1449752 # km\n",
    "RADIUS_EARTH = 6378.1000 # km\n",
    "ATMOSPHERE_HEIGHT = 50.000 # km\n",
    "KECK_LONG = 360 - 155.4747 \n",
    "\n",
    "def date_to_juld(date):\n",
    "    return (date.timestamp() / 86400) + 2440587.5 #do not offset\n",
    "    #return (date.timestamp() / 86400)\n",
    "\n",
    "def get_gmt(date=None):\n",
    "    if date is None:\n",
    "        date = datetime.now()\n",
    "    JD = date_to_juld(date)\n",
    "    T = (JD - 2451545) / 36525\n",
    "    ThetaGMST = 67310.54841 + (876600 * 3600 + 8640184.812866) * T + .093104 * (T**2) - (6.2 * 10**-6) * (T**3)\n",
    "    ThetaGMST = (ThetaGMST % (86400 * (ThetaGMST / abs(ThetaGMST))) / 240) % 360\n",
    "\n",
    "    return ThetaGMST\n",
    "\n",
    "def cosd(deg):\n",
    "    return math.cos(math.pi / 180 * deg)\n",
    "\n",
    "def sind(deg):\n",
    "    return math.sin(math.pi / 180 * deg)\n",
    "\n",
    "def tand(deg):\n",
    "    return math.tan(math.pi / 180 * deg)\n",
    "\n",
    "def ra_dec_to_az_alt(ra, dec, date=None):\n",
    "    if date is None:\n",
    "        date = datetime.now()\n",
    "    lngLatEl = { 'lng': KECK_LONG, 'lat': KECK_LAT, 'ele': KECK_ELEVATION }\n",
    "    hourAngle = (get_gmt(date) + lngLatEl['lng'] - ra) % 360\n",
    "    tanAzNum = sind(hourAngle)\n",
    "    tanAzDen = cosd(hourAngle) * sind(lngLatEl['lat']) - tand(dec) * cosd(lngLatEl['lat'])\n",
    "    az = math.atan2(tanAzNum, tanAzDen) + math.pi\n",
    "    sinEl = sind(lngLatEl['lat']) * sind(dec) + cosd(lngLatEl['lat']) * cosd(dec) * cosd(hourAngle)\n",
    "    el = math.asin(sinEl)\n",
    "    return [(180 / math.pi * az), (180 / math.pi * el)]\n",
    "\n",
    "ra = 10.0\n",
    "dec = 10.0\n",
    "date = datetime.now()\n",
    "py_alt_az = ra_dec_to_az_alt(ra, dec, date)\n",
    "\n",
    "keck = EarthLocation(lat=KECK_LAT*u.deg, lon=KECK_LONG*u.deg, height=KECK_ELEVATION*u.m)\n",
    "coord = SkyCoord(ra=ra * u.degree, dec=dec * u.degree, frame='icrs')\n",
    "\n",
    "#coord = SkyCoord(ra * u.hourangle, dec * u.deg, frame=\"icrs\")\n",
    "target = apl.FixedTarget(name='tgt', coord=coord)\n",
    "time = Time(date +timedelta(hours=10))\n",
    "ap_alt_az = coord.transform_to(AltAz(obstime=time,location=keck))\n",
    "\n",
    "keckap = apl.Observer.at_site(\"W. M. Keck Observatory\")\n",
    "altaz = keckap.altaz(date, target, grid_times_targets=True)\n",
    "print(date)\n",
    "print(py_alt_az[1])\n",
    "print(ap_alt_az.az.value)\n",
    "print(altaz.az.value)\n"
   ]
  },
  {
   "cell_type": "code",
   "execution_count": 53,
   "id": "b38761a4-587d-4436-a844-4013036e84c6",
   "metadata": {},
   "outputs": [
    {
     "name": "stderr",
     "output_type": "stream",
     "text": [
      "/home/tyler/anaconda3/envs/firstEnv/lib/python3.10/site-packages/erfa/core.py:154: ErfaWarning: ERFA function \"dtf2d\" yielded 1 of \"dubious year (Note 6)\"\n",
      "  warnings.warn('ERFA function \"{}\" yielded {}'.format(func_name, wmsg),\n",
      "/home/tyler/anaconda3/envs/firstEnv/lib/python3.10/site-packages/erfa/core.py:154: ErfaWarning: ERFA function \"utctai\" yielded 1 of \"dubious year (Note 3)\"\n",
      "  warnings.warn('ERFA function \"{}\" yielded {}'.format(func_name, wmsg),\n",
      "WARNING: Tried to get polar motions for times after IERS data is valid. Defaulting to polar motion from the 50-yr mean for those. This may affect precision at the arcsec level. Please check your astropy.utils.iers.conf.iers_auto_url and point it to a newer version if necessary. [astropy.coordinates.builtin_frames.utils]\n",
      "/home/tyler/anaconda3/envs/firstEnv/lib/python3.10/site-packages/erfa/core.py:154: ErfaWarning: ERFA function \"utcut1\" yielded 1 of \"dubious year (Note 3)\"\n",
      "  warnings.warn('ERFA function \"{}\" yielded {}'.format(func_name, wmsg),\n",
      "/home/tyler/anaconda3/envs/firstEnv/lib/python3.10/site-packages/erfa/core.py:154: ErfaWarning: ERFA function \"taiutc\" yielded 1 of \"dubious year (Note 4)\"\n",
      "  warnings.warn('ERFA function \"{}\" yielded {}'.format(func_name, wmsg),\n"
     ]
    }
   ],
   "source": [
    "from random import randrange\n",
    "from datetime import timedelta\n",
    "d1 = datetime.strptime('1/1/2008 1:30 PM', '%m/%d/%Y %I:%M %p')\n",
    "d2 = datetime.strptime('1/1/2039 4:50 AM', '%m/%d/%Y %I:%M %p')\n",
    "\n",
    "\n",
    "def random_date(start, end):\n",
    "    \"\"\"\n",
    "    This function will return a random datetime between two datetime \n",
    "    objects.\n",
    "    \"\"\"\n",
    "    delta = end - start\n",
    "    int_delta = (delta.days * 24 * 60 * 60) + delta.seconds\n",
    "    random_second = randrange(int_delta)\n",
    "    return start + timedelta(seconds=random_second)\n",
    "\n",
    "data = []\n",
    "for _ in range(10**2):\n",
    "    date = random_date(d1, d2)\n",
    "    ra = np.random.uniform(0, 360)\n",
    "    dec = np.random.uniform(-90, 90)\n",
    "    coord = SkyCoord(ra=ra * u.degree, dec=dec * u.degree, frame='icrs')\n",
    "    target = apl.FixedTarget(name='tgt', coord=coord)\n",
    "    time = Time(date +timedelta(hours=10))\n",
    "    ap_alt_az = coord.transform_to(AltAz(obstime=time,location=keck))\n",
    "    py_alt_az = ra_dec_to_az_alt(ra, dec, date)\n",
    "    datum = {\n",
    "        'ra': ra, 'dec': dec, 'date': date,\n",
    "        'ap_az': ap_alt_az.az.value, 'ap_alt': ap_alt_az.alt.value,\n",
    "        'py_alt': py_alt_az[0], 'py_az': py_alt_az[1],\n",
    "        'alt_err': py_alt_az[0] - ap_alt_az.alt.value,\n",
    "        'az_err': py_alt_az[1] - ap_alt_az.az.value,\n",
    "    }\n",
    "    # data.append({\n",
    "    #     'ra': ra, 'dec': dec, 'date': date, 'model': 'astropy',\n",
    "    #     'az': ap_alt_az.az.value })\n",
    "    # data.append({\n",
    "    #     'ra': ra, 'dec': dec, 'date': date, 'model': 'tyler',\n",
    "    #     'az': py_alt_az[0] })\n",
    "\n",
    "    data.append(datum)"
   ]
  },
  {
   "cell_type": "code",
   "execution_count": 54,
   "id": "a69c6ff8-1b79-41ca-bb19-35e8074c5a83",
   "metadata": {},
   "outputs": [
    {
     "data": {
      "text/plain": [
       "{'ra': 298.833240003677,\n",
       " 'dec': -51.232171448000216,\n",
       " 'date': datetime.datetime(2034, 9, 30, 10, 41, 2),\n",
       " 'ap_az': 142.69624059007836,\n",
       " 'ap_alt': -42.97985268057952,\n",
       " 'py_alt': 142.58123330917988,\n",
       " 'py_az': -42.566513208624585,\n",
       " 'alt_err': 185.5610859897594,\n",
       " 'az_err': -185.26275379870293}"
      ]
     },
     "execution_count": 54,
     "metadata": {},
     "output_type": "execute_result"
    }
   ],
   "source": [
    "data[0]"
   ]
  },
  {
   "cell_type": "code",
   "execution_count": 56,
   "id": "0b5979d1-e055-4879-9f99-424a4323d502",
   "metadata": {},
   "outputs": [
    {
     "data": {
      "text/plain": [
       "<AxesSubplot: xlabel='az_err', ylabel='Count'>"
      ]
     },
     "execution_count": 56,
     "metadata": {},
     "output_type": "execute_result"
    },
    {
     "data": {
      "image/png": "[encoded data removed]",
      "text/plain": [
       "<Figure size 800x600 with 1 Axes>"
      ]
     },
     "metadata": {},
     "output_type": "display_data"
    }
   ],
   "source": [
    "import seaborn as sns\n",
    "import pandas as pd\n",
    "sns.set_theme(style=\"ticks\")\n",
    "\n",
    "#df = sns.load_dataset(\"penguins\")\n",
    "df = pd.DataFrame(data)\n",
    "#sns.pairplot(df, hue=\"az_err\")\n",
    "#sns.boxplot(y='az_err',data=df)\n",
    "sns.histplot(data=df, x=\"az_err\")"
   ]
  },
  {
   "cell_type": "code",
   "execution_count": 2,
   "id": "2f930955-1063-4535-9a5e-4b2d791d5e50",
   "metadata": {},
   "outputs": [
    {
     "name": "stdout",
     "output_type": "stream",
     "text": [
      "3.72 µs ± 48.8 ns per loop (mean ± std. dev. of 7 runs, 100,000 loops each)\n"
     ]
    }
   ],
   "source": [
    "%%timeit\n",
    "ra_dec_to_az_alt(ra, dec, date)"
   ]
  },
  {
   "cell_type": "code",
   "execution_count": 3,
   "id": "44df9def-9fb0-41bf-b8c3-5a8b1be1cd00",
   "metadata": {},
   "outputs": [],
   "source": [
    "keck = EarthLocation(lat=KECK_LAT*u.deg, lon=KECK_LONG*u.deg, height=KECK_ELEVATION*u.m)"
   ]
  },
  {
   "cell_type": "code",
   "execution_count": 4,
   "id": "9306c1fa-2be5-4477-82ae-bad66e893e59",
   "metadata": {},
   "outputs": [
    {
     "name": "stderr",
     "output_type": "stream",
     "text": [
      "UsageError: Line magic function `%%timeit` not found.\n"
     ]
    }
   ],
   "source": [
    "%%timeit\n",
    "coord.transform_to(AltAz(obstime=Time(date, scale='utc'),location=keck))"
   ]
  },
  {
   "cell_type": "code",
   "execution_count": 5,
   "id": "5a65e061-b8da-467f-bdf9-df283b798e60",
   "metadata": {},
   "outputs": [],
   "source": [
    "keck = apl.Observer.at_site(\"W. M. Keck Observatory\")"
   ]
  },
  {
   "cell_type": "code",
   "execution_count": 6,
   "id": "c6239b1b-f267-4bb3-bbb3-d196e9b18cc2",
   "metadata": {},
   "outputs": [
    {
     "name": "stdout",
     "output_type": "stream",
     "text": [
      "4.48 ms ± 257 µs per loop (mean ± std. dev. of 7 runs, 100 loops each)\n"
     ]
    }
   ],
   "source": [
    "%%timeit\n",
    "altaz = keck.altaz(date, target, grid_times_targets=True)"
   ]
  },
  {
   "cell_type": "code",
   "execution_count": null,
   "id": "0a8d9601-c91b-4db3-aada-1d27ac68efe8",
   "metadata": {},
   "outputs": [],
   "source": []
  }
 ],
 "metadata": {
  "kernelspec": {
   "display_name": "Python 3",
   "language": "python",
   "name": "python3"
  },
  "language_info": {
   "codemirror_mode": {
    "name": "ipython",
    "version": 3
   },
   "file_extension": ".py",
   "mimetype": "text/x-python",
   "name": "python",
   "nbconvert_exporter": "python",
   "pygments_lexer": "ipython3",
   "version": "3.10.8"
  }
 },
 "nbformat": 4,
 "nbformat_minor": 5
}
