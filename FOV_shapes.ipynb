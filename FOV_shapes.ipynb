{
 "cells": [
  {
   "cell_type": "code",
   "execution_count": 32,
   "id": "5d931115-020b-42a4-91db-4e5ee6753852",
   "metadata": {},
   "outputs": [],
   "source": [
    "import numpy as np\n",
    "from shapely.geometry.polygon import LinearRing, Polygon\n",
    "import json\n",
    "import math\n",
    "from datetime import datetime\n",
    "from shapely import box, LineString, normalize, Polygon, Point"
   ]
  },
  {
   "cell_type": "code",
   "execution_count": 67,
   "id": "106cf0e1-de14-421e-ad28-b52629a68780",
   "metadata": {},
   "outputs": [],
   "source": [
    "def make_circle(radius = 1, shape=1, x0=0, y0=0, nPoints=500):\n",
    "    theta = np.linspace(0,2*np.pi, nPoints)\n",
    "    xx = radius * np.sin(theta) + x0\n",
    "    yy = radius * np.cos(theta) + y0\n",
    "    segs = []\n",
    "    for idx, (x, y) in enumerate(zip(xx, yy)):\n",
    "        if idx<1:\n",
    "            px, py = x, y\n",
    "            continue\n",
    "        seg = (px, py, x, y, shape)\n",
    "        segs.append(seg)\n",
    "        px, py = x, y\n",
    "    return segs\n",
    "make_square = lambda l, x0=0, y0=0: Polygon([ Point([l*ver[0], l*ver[1]]) for ver in [(-1, -1), (1, -1), (1, 1), (-1, 1)]])\n",
    "    "
   ]
  },
  {
   "cell_type": "code",
   "execution_count": 68,
   "id": "2024d0ca-434e-4a09-8c38-3db038b84c7b",
   "metadata": {},
   "outputs": [
    {
     "data": {
      "image/svg+xml": [
       "<svg xmlns=\"http://www.w3.org/2000/svg\" xmlns:xlink=\"http://www.w3.org/1999/xlink\" width=\"300\" height=\"300\" viewBox=\"-396.57599999999996 -396.57599999999996 793.1519999999999 793.1519999999999\" preserveAspectRatio=\"xMinYMin meet\"><g transform=\"matrix(1,0,0,-1,0,0.0)\"><polyline fill=\"none\" stroke=\"#66cc99\" stroke-width=\"5.28768\" points=\"-177.3868472823484,-367.2 -186.9564208647834,-362.6448630512088 -209.58037576194982,-350.0572325998706 -231.3604244560104,-336.0600452233718 -252.20886637800695,-320.70966265505723 -272.04175221064696,-304.06789546770796 -290.7792219225761,-286.2017541841791 -308.34582633653736,-267.18317944967635 -324.6708309365795,-247.08875235216797 -339.6885006909867,-225.99938605737307 -353.33836474405103,-203.99999999999983 -365.56545991086506,-181.17917794315576 -367.2,-177.60003439698835 -367.2,177.41859697635954 -359.63297228661344,192.68659850725462 -346.6879754194019,215.10799078508498 -332.346988436537,236.66321910504877 -316.6677574310367,257.2654881704853 -299.71341713227355,276.83183991530996 -281.5522366847017,295.28348754686857 -262.25734475210817,312.54613279254295 -241.90643505429318,328.55026507267195 -220.58145352188376,343.2314413951219 -198.3682683289913,356.5305458444723 -177.67241459385306,367.2 177.67241459385295,367.2 198.36826832899123,356.5305458444723 220.58145352188382,343.2314413951219 241.9064350542933,328.55026507267195 262.257344752108,312.546132792543 281.5522366847017,295.28348754686857 299.7134171322736,276.83183991530996 316.66775743103676,257.2654881704852 332.346988436537,236.66321910504885 346.6879754194019,215.10799078508498 359.6329722866135,192.68659850725456 367.2,177.4185969763595 367.2,-177.6000343969884 365.56545991086506,-181.17917794315585 353.3383647440509,-204.00000000000009 339.68850069098676,-225.999386057373 324.6708309365795,-247.08875235216806 308.34582633653736,-267.1831794496763 290.77922192257597,-286.20175418417915 272.041752210647,-304.0678954677079 252.20886637800686,-320.7096626550573 231.36042445601052,-336.06004522337173 209.58037576194977,-350.05723259987064 186.9564208647835,-362.64486305120874 177.38684728234836,-367.2 -177.3868472823484,-367.2\" opacity=\"0.8\" /></g></svg>"
      ],
      "text/plain": [
       "<LINEARRING (-177.387 -367.2, -186.956 -362.645, -209.58 -350.057, -231.36 -...>"
      ]
     },
     "execution_count": 68,
     "metadata": {},
     "output_type": "execute_result"
    }
   ],
   "source": [
    "def make_mosfire_fov(l=6.12, r=3.4, shape=1):\n",
    "    circ = Polygon([Point(seg[0:2]) for seg in make_circle(r * 60 * 2 , 1, 0, 0, 100)])\n",
    "    square = make_square(l * 60  )\n",
    "    mf = square.intersection(circ)\n",
    "    segs = []\n",
    "\n",
    "    for idx, (x, y) in enumerate(zip(mf.exterior.xy[0], mf.exterior.xy[1])):\n",
    "        if idx<1:\n",
    "            px, py = x, y\n",
    "            continue\n",
    "        seg = (px, py, x, y, shape)\n",
    "        segs.append(seg)\n",
    "        px, py = x, y\n",
    "    return segs, mf\n",
    "segs, mf = make_mosfire_fov()\n",
    "    \n",
    "strSegs = [\" \".join(x)+'\\n' for x in [[str(el) for el in seg] for seg in segs]]\n",
    "mosfireshape = [[seg[0], seg[1]] for seg in segs]\n",
    "mf.exterior"
   ]
  },
  {
   "cell_type": "code",
   "execution_count": 69,
   "id": "55c384fb",
   "metadata": {},
   "outputs": [
    {
     "data": {
      "image/svg+xml": [
       "<svg xmlns=\"http://www.w3.org/2000/svg\" xmlns:xlink=\"http://www.w3.org/1999/xlink\" width=\"100.0\" height=\"100.0\" viewBox=\"-0.16999999999999998 -0.16999999999999998 1.2149999999999999 1.2149999999999999\" preserveAspectRatio=\"xMinYMin meet\"><g transform=\"matrix(1,0,0,-1,0,0.875)\"><path fill-rule=\"evenodd\" fill=\"#66cc99\" stroke=\"#555555\" stroke-width=\"0.0243\" opacity=\"0.6\" d=\"M 0.11548494156391084,-0.04783542904563622 L 0.11024015804354438,-0.058924592103249705 L 0.10393370153781815,-0.06944627912745027 L 0.09662630667034212,-0.07929916052045569 L 0.08838834764831845,-0.08838834764831843 L 0.07929916052045569,-0.09662630667034212 L 0.06944627912745029,-0.10393370153781815 L 0.058924592103249726,-0.11024015804354437 L 0.04783542904563623,-0.11548494156391084 L 0.03628558465680779,-0.11961754196652612 L 0.02438629025201604,-0.1225981600504038 L 0.012252142541195096,-0.1243980908340246 L 7.654042494670958e-18,-0.125 L -0.01225214254119508,-0.12439809083402462 L -0.024386290252016024,-0.1225981600504038 L -0.03628558465680777,-0.11961754196652612 L -0.047835429045636216,-0.11548494156391084 L -0.05892459210324971,-0.11024015804354438 L -0.06944627912745024,-0.10393370153781818 L -0.07929916052045567,-0.09662630667034214 L -0.08838834764831843,-0.08838834764831845 L -0.09662630667034212,-0.07929916052045569 L -0.10393370153781817,-0.06944627912745027 L -0.11024015804354437,-0.05892459210324973 L -0.11548494156391084,-0.04783542904563624 L -0.1196175419665261,-0.0362855846568078 L -0.1225981600504038,-0.024386290252016076 L -0.1243980908340246,-0.012252142541195103 L -0.125,-1.5308084989341915e-17 L -0.12439809083402462,0.012252142541195074 L -0.1225981600504038,0.024386290252016045 L -0.11961754196652612,0.036285584656807764 L -0.11548494156391086,0.04783542904563621 L -0.11024015804354438,0.058924592103249705 L -0.10393370153781818,0.06944627912745024 L -0.09662630667034214,0.07929916052045566 L -0.08838834764831846,0.08838834764831843 L -0.07929916052045574,0.09662630667034208 L -0.06944627912745027,0.10393370153781815 L -0.05892459210324973,0.11024015804354437 L -0.04783542904563629,0.11548494156391081 L -0.04415999841643329,0.11680003167133429 L 0.0,1.0 L 0.04415999841643329,0.11680003167133429 L 0.04783542904563625,0.11548494156391083 L 0.0589245921032497,0.11024015804354438 L 0.06944627912745023,0.10393370153781818 L 0.0792991605204557,0.09662630667034211 L 0.08838834764831842,0.08838834764831846 L 0.09662630667034208,0.07929916052045574 L 0.10393370153781815,0.06944627912745027 L 0.11024015804354435,0.05892459210324974 L 0.11548494156391081,0.0478354290456363 L 0.11680003167133429,0.04415999841643329 L 1.0,0.0 L 0.11680003167133429,-0.04415999841643329 L 0.11548494156391084,-0.04783542904563622 z\" /></g></svg>"
      ],
      "text/plain": [
       "<POLYGON ((0.115 -0.048, 0.11 -0.059, 0.104 -0.069, 0.097 -0.079, 0.088 -0.0...>"
      ]
     },
     "execution_count": 69,
     "metadata": {},
     "output_type": "execute_result"
    }
   ],
   "source": [
    "# Generate the compass rose\n",
    "import shapely.geometry as sg\n",
    "import matplotlib.pyplot as plt\n",
    "from shapely.affinity import rotate, scale \n",
    "\n",
    "def create_compass_rose(center, radius, baseWidthRat=0.1):\n",
    "    \"\"\"Creates a Shapely compass rose polygon.\"\"\"\n",
    "    x, y = center\n",
    "\n",
    "    # Create the main circle\n",
    "    circle = sg.Point(center).buffer(radius/8)\n",
    "    baseWidth = radius * baseWidthRat\n",
    "\n",
    "    # Create the N, S, E, W arms\n",
    "    north = sg.Polygon([(x - baseWidth/2 , y), (x, y + radius), (x + baseWidth/2, y), (x - baseWidth/2, y)])\n",
    "    west = rotate(north, 90, center)\n",
    "    south = rotate(north, 180, center)\n",
    "    east = rotate(north, 270, center)\n",
    "\n",
    "    # Create the NE, NW, SE, SW arms\n",
    "    mag = .707\n",
    "    ne = rotate( scale(north, mag, mag), -45, center)\n",
    "    nw = rotate( scale(north, mag, mag), 45, center)\n",
    "    se = rotate( scale(north, mag, mag), 45+180, center)\n",
    "    sw = rotate( scale(north, mag, mag), -45+180, center)\n",
    "\n",
    "    # Combine all the elements\n",
    "    # compass_rose = circle.union(north).union(south).union(east).union(west).union(ne).union(nw).union(se).union(sw)\n",
    "    compass_rose = circle.union(north).union(east)\n",
    "\n",
    "    return compass_rose\n",
    "\n",
    "# Create the compass rose\n",
    "compass = create_compass_rose((0, 0), 1)\n",
    "compasscoords = list(zip(compass.exterior.xy[0], compass.exterior.xy[1]))\n",
    "\n",
    "# Plot the compass rose\n",
    "compass"
   ]
  },
  {
   "cell_type": "code",
   "execution_count": 70,
   "id": "e5fafc0a",
   "metadata": {},
   "outputs": [
    {
     "name": "stdout",
     "output_type": "stream",
     "text": [
      "[[74, 35], [74, 103], [119, 103], [119, 93], [86, 93], [85, 92], [85, 75], [86, 74], [115, 74], [115, 64], [86, 64], [85, 63], [85, 46], [86, 45], [118, 45], [118, 35]]\n"
     ]
    },
    {
     "data": {
      "image/svg+xml": [
       "<svg xmlns=\"http://www.w3.org/2000/svg\" xmlns:xlink=\"http://www.w3.org/1999/xlink\" width=\"100.0\" height=\"100.0\" viewBox=\"71.28 32.28 50.44 73.44\" preserveAspectRatio=\"xMinYMin meet\"><g transform=\"matrix(1,0,0,-1,0,138.0)\"><path fill-rule=\"evenodd\" fill=\"#66cc99\" stroke=\"#555555\" stroke-width=\"1.4687999999999999\" opacity=\"0.6\" d=\"M 74.0,35.0 L 74.0,103.0 L 119.0,103.0 L 119.0,93.0 L 86.0,93.0 L 85.0,92.0 L 85.0,75.0 L 86.0,74.0 L 115.0,74.0 L 115.0,64.0 L 86.0,64.0 L 85.0,63.0 L 85.0,46.0 L 86.0,45.0 L 118.0,45.0 L 118.0,35.0 L 74.0,35.0 z\" /></g></svg>"
      ],
      "text/plain": [
       "<POLYGON ((74 35, 74 103, 119 103, 119 93, 86 93, 85 92, 85 75, 86 74, 115 7...>"
      ]
     },
     "execution_count": 70,
     "metadata": {},
     "output_type": "execute_result"
    }
   ],
   "source": [
    "# Generate the compass rose characters\n",
    "from PIL import Image, ImageDraw, ImageFont\n",
    "import cv2\n",
    "import numpy as np\n",
    "\n",
    "# Render the character\n",
    "fp ='/usr/share/fonts/truetype/liberation/LiberationSansNarrow-Bold.ttf'\n",
    "font = ImageFont.truetype(fp, 100)\n",
    "img = Image.new(\"RGB\", (200, 125), (255, 255, 255))\n",
    "draw = ImageDraw.Draw(img)\n",
    "#draw.text((10, 10), \"RA\", font=font, fill=(0, 0, 0))\n",
    "draw.text((10, 10), \"DEC\", font=font, fill=(0, 0, 0))\n",
    "\n",
    "# Convert to grayscale and threshold\n",
    "img = cv2.cvtColor(np.array(img), cv2.COLOR_RGB2GRAY)\n",
    "_, img = cv2.threshold(img, 127, 255, cv2.THRESH_BINARY_INV)\n",
    "\n",
    "# Find contours\n",
    "contours, _ = cv2.findContours(img, cv2.RETR_EXTERNAL, cv2.CHAIN_APPROX_SIMPLE)\n",
    "\n",
    "# Extract coordinates\n",
    "polygon_coords = contours[0].squeeze().tolist()\n",
    "print(polygon_coords)\n",
    "raText = Polygon([Point(seg[0:2]) for seg in polygon_coords])\n",
    "raText"
   ]
  },
  {
   "cell_type": "code",
   "execution_count": 71,
   "id": "0336fb7f",
   "metadata": {},
   "outputs": [
    {
     "data": {
      "image/svg+xml": [
       "<svg xmlns=\"http://www.w3.org/2000/svg\" xmlns:xlink=\"http://www.w3.org/1999/xlink\" width=\"179.27999999999997\" height=\"100.0\" viewBox=\"7.359999999999999 26.36 179.27999999999997 84.28\" preserveAspectRatio=\"xMinYMin meet\"><g transform=\"matrix(1,0,0,-1,0,137.0)\"><path fill-rule=\"evenodd\" fill=\"#ff3333\" stroke=\"#555555\" stroke-width=\"2.0\" opacity=\"0.6\" d=\"M 150.0,33.0 L 151.0,33.0 L 152.0,33.0 L 153.0,33.0 L 154.0,33.0 L 155.0,33.0 L 156.0,33.0 L 157.0,33.0 L 158.0,33.0 L 159.0,33.0 L 16.0,34.0 L 17.0,34.0 L 18.0,34.0 L 19.0,34.0 L 20.0,34.0 L 21.0,34.0 L 22.0,34.0 L 23.0,34.0 L 24.0,34.0 L 25.0,34.0 L 26.0,34.0 L 27.0,34.0 L 28.0,34.0 L 29.0,34.0 L 30.0,34.0 L 31.0,34.0 L 32.0,34.0 L 33.0,34.0 L 34.0,34.0 L 35.0,34.0 L 36.0,34.0 L 37.0,34.0 L 38.0,34.0 L 39.0,34.0 L 40.0,34.0 L 75.0,34.0 L 76.0,34.0 L 77.0,34.0 L 78.0,34.0 L 79.0,34.0 L 80.0,34.0 L 81.0,34.0 L 82.0,34.0 L 83.0,34.0 L 84.0,34.0 L 85.0,34.0 L 86.0,34.0 L 87.0,34.0 L 88.0,34.0 L 89.0,34.0 L 90.0,34.0 L 91.0,34.0 L 92.0,34.0 L 93.0,34.0 L 94.0,34.0 L 95.0,34.0 L 96.0,34.0 L 97.0,34.0 L 98.0,34.0 L 99.0,34.0 L 100.0,34.0 L 101.0,34.0 L 102.0,34.0 L 103.0,34.0 L 104.0,34.0 L 105.0,34.0 L 106.0,34.0 L 107.0,34.0 L 108.0,34.0 L 109.0,34.0 L 110.0,34.0 L 111.0,34.0 L 112.0,34.0 L 113.0,34.0 L 114.0,34.0 L 115.0,34.0 L 116.0,34.0 L 117.0,34.0 L 146.0,34.0 L 147.0,34.0 L 148.0,34.0 L 149.0,34.0 L 160.0,34.0 L 161.0,34.0 L 162.0,34.0 L 163.0,34.0 L 15.0,35.0 L 41.0,35.0 L 42.0,35.0 L 43.0,35.0 L 44.0,35.0 L 74.0,35.0 L 118.0,35.0 L 144.0,35.0 L 145.0,35.0 L 164.0,35.0 L 165.0,35.0 L 166.0,35.0 L 14.0,36.0 L 45.0,36.0 L 46.0,36.0 L 47.0,36.0 L 73.0,36.0 L 118.0,36.0 L 142.0,36.0 L 143.0,36.0 L 167.0,36.0 L 168.0,36.0 L 14.0,37.0 L 48.0,37.0 L 49.0,37.0 L 73.0,37.0 L 118.0,37.0 L 140.0,37.0 L 141.0,37.0 L 169.0,37.0 L 170.0,37.0 L 14.0,38.0 L 50.0,38.0 L 51.0,38.0 L 73.0,38.0 L 118.0,38.0 L 138.0,38.0 L 139.0,38.0 L 170.0,38.0 L 171.0,38.0 L 14.0,39.0 L 52.0,39.0 L 53.0,39.0 L 73.0,39.0 L 118.0,39.0 L 137.0,39.0 L 138.0,39.0 L 171.0,39.0 L 172.0,39.0 L 14.0,40.0 L 53.0,40.0 L 54.0,40.0 L 73.0,40.0 L 118.0,40.0 L 136.0,40.0 L 137.0,40.0 L 172.0,40.0 L 173.0,40.0 L 14.0,41.0 L 55.0,41.0 L 56.0,41.0 L 73.0,41.0 L 118.0,41.0 L 135.0,41.0 L 136.0,41.0 L 173.0,41.0 L 174.0,41.0 L 14.0,42.0 L 56.0,42.0 L 57.0,42.0 L 73.0,42.0 L 118.0,42.0 L 134.0,42.0 L 135.0,42.0 L 174.0,42.0 L 175.0,42.0 L 14.0,43.0 L 57.0,43.0 L 73.0,43.0 L 118.0,43.0 L 134.0,43.0 L 175.0,43.0 L 176.0,43.0 L 14.0,44.0 L 58.0,44.0 L 73.0,44.0 L 118.0,44.0 L 133.0,44.0 L 152.0,44.0 L 153.0,44.0 L 154.0,44.0 L 155.0,44.0 L 156.0,44.0 L 157.0,44.0 L 176.0,44.0 L 14.0,45.0 L 28.0,45.0 L 29.0,45.0 L 30.0,45.0 L 31.0,45.0 L 32.0,45.0 L 33.0,45.0 L 34.0,45.0 L 35.0,45.0 L 36.0,45.0 L 37.0,45.0 L 38.0,45.0 L 58.0,45.0 L 59.0,45.0 L 73.0,45.0 L 87.0,45.0 L 88.0,45.0 L 89.0,45.0 L 90.0,45.0 L 91.0,45.0 L 92.0,45.0 L 93.0,45.0 L 94.0,45.0 L 95.0,45.0 L 96.0,45.0 L 97.0,45.0 L 98.0,45.0 L 99.0,45.0 L 100.0,45.0 L 101.0,45.0 L 102.0,45.0 L 103.0,45.0 L 104.0,45.0 L 105.0,45.0 L 106.0,45.0 L 107.0,45.0 L 108.0,45.0 L 109.0,45.0 L 110.0,45.0 L 111.0,45.0 L 112.0,45.0 L 113.0,45.0 L 114.0,45.0 L 115.0,45.0 L 116.0,45.0 L 117.0,45.0 L 118.0,45.0 L 132.0,45.0 L 133.0,45.0 L 150.0,45.0 L 151.0,45.0 L 158.0,45.0 L 159.0,45.0 L 160.0,45.0 L 177.0,45.0 L 14.0,46.0 L 27.0,46.0 L 39.0,46.0 L 40.0,46.0 L 41.0,46.0 L 59.0,46.0 L 60.0,46.0 L 73.0,46.0 L 86.0,46.0 L 132.0,46.0 L 148.0,46.0 L 149.0,46.0 L 161.0,46.0 L 162.0,46.0 L 177.0,46.0 L 14.0,47.0 L 26.0,47.0 L 42.0,47.0 L 43.0,47.0 L 60.0,47.0 L 73.0,47.0 L 85.0,47.0 L 131.0,47.0 L 146.0,47.0 L 147.0,47.0 L 163.0,47.0 L 164.0,47.0 L 178.0,47.0 L 14.0,48.0 L 26.0,48.0 L 44.0,48.0 L 45.0,48.0 L 61.0,48.0 L 73.0,48.0 L 85.0,48.0 L 131.0,48.0 L 145.0,48.0 L 146.0,48.0 L 164.0,48.0 L 165.0,48.0 L 178.0,48.0 L 14.0,49.0 L 26.0,49.0 L 46.0,49.0 L 47.0,49.0 L 61.0,49.0 L 73.0,49.0 L 85.0,49.0 L 130.0,49.0 L 144.0,49.0 L 145.0,49.0 L 165.0,49.0 L 166.0,49.0 L 178.0,49.0 L 14.0,50.0 L 26.0,50.0 L 47.0,50.0 L 48.0,50.0 L 62.0,50.0 L 73.0,50.0 L 85.0,50.0 L 130.0,50.0 L 143.0,50.0 L 144.0,50.0 L 166.0,50.0 L 167.0,50.0 L 179.0,50.0 L 14.0,51.0 L 26.0,51.0 L 48.0,51.0 L 49.0,51.0 L 62.0,51.0 L 73.0,51.0 L 85.0,51.0 L 129.0,51.0 L 143.0,51.0 L 167.0,51.0 L 179.0,51.0 L 14.0,52.0 L 26.0,52.0 L 49.0,52.0 L 62.0,52.0 L 73.0,52.0 L 85.0,52.0 L 129.0,52.0 L 142.0,52.0 L 168.0,52.0 L 179.0,52.0 L 14.0,53.0 L 26.0,53.0 L 50.0,53.0 L 63.0,53.0 L 73.0,53.0 L 85.0,53.0 L 129.0,53.0 L 142.0,53.0 L 168.0,53.0 L 177.0,53.0 L 178.0,53.0 L 179.0,53.0 L 14.0,54.0 L 26.0,54.0 L 50.0,54.0 L 63.0,54.0 L 73.0,54.0 L 85.0,54.0 L 128.0,54.0 L 141.0,54.0 L 168.0,54.0 L 174.0,54.0 L 175.0,54.0 L 176.0,54.0 L 14.0,55.0 L 26.0,55.0 L 51.0,55.0 L 63.0,55.0 L 73.0,55.0 L 85.0,55.0 L 128.0,55.0 L 141.0,55.0 L 169.0,55.0 L 170.0,55.0 L 171.0,55.0 L 172.0,55.0 L 173.0,55.0 L 14.0,56.0 L 26.0,56.0 L 51.0,56.0 L 64.0,56.0 L 73.0,56.0 L 85.0,56.0 L 128.0,56.0 L 140.0,56.0 L 14.0,57.0 L 26.0,57.0 L 51.0,57.0 L 64.0,57.0 L 73.0,57.0 L 85.0,57.0 L 128.0,57.0 L 140.0,57.0 L 14.0,58.0 L 26.0,58.0 L 52.0,58.0 L 64.0,58.0 L 73.0,58.0 L 85.0,58.0 L 127.0,58.0 L 140.0,58.0 L 14.0,59.0 L 26.0,59.0 L 52.0,59.0 L 64.0,59.0 L 73.0,59.0 L 85.0,59.0 L 127.0,59.0 L 139.0,59.0 L 14.0,60.0 L 26.0,60.0 L 52.0,60.0 L 64.0,60.0 L 73.0,60.0 L 85.0,60.0 L 127.0,60.0 L 139.0,60.0 L 14.0,61.0 L 26.0,61.0 L 52.0,61.0 L 64.0,61.0 L 73.0,61.0 L 85.0,61.0 L 127.0,61.0 L 139.0,61.0 L 14.0,62.0 L 26.0,62.0 L 53.0,62.0 L 64.0,62.0 L 73.0,62.0 L 85.0,62.0 L 127.0,62.0 L 139.0,62.0 L 14.0,63.0 L 26.0,63.0 L 53.0,63.0 L 65.0,63.0 L 73.0,63.0 L 86.0,63.0 L 87.0,63.0 L 88.0,63.0 L 89.0,63.0 L 90.0,63.0 L 91.0,63.0 L 92.0,63.0 L 93.0,63.0 L 94.0,63.0 L 95.0,63.0 L 96.0,63.0 L 97.0,63.0 L 98.0,63.0 L 99.0,63.0 L 100.0,63.0 L 101.0,63.0 L 102.0,63.0 L 103.0,63.0 L 104.0,63.0 L 105.0,63.0 L 106.0,63.0 L 107.0,63.0 L 108.0,63.0 L 109.0,63.0 L 110.0,63.0 L 111.0,63.0 L 112.0,63.0 L 113.0,63.0 L 114.0,63.0 L 127.0,63.0 L 139.0,63.0 L 14.0,64.0 L 26.0,64.0 L 53.0,64.0 L 65.0,64.0 L 73.0,64.0 L 115.0,64.0 L 127.0,64.0 L 139.0,64.0 L 14.0,65.0 L 26.0,65.0 L 53.0,65.0 L 65.0,65.0 L 73.0,65.0 L 115.0,65.0 L 127.0,65.0 L 138.0,65.0 L 14.0,66.0 L 26.0,66.0 L 53.0,66.0 L 65.0,66.0 L 73.0,66.0 L 115.0,66.0 L 126.0,66.0 L 138.0,66.0 L 14.0,67.0 L 26.0,67.0 L 53.0,67.0 L 65.0,67.0 L 73.0,67.0 L 115.0,67.0 L 126.0,67.0 L 138.0,67.0 L 14.0,68.0 L 26.0,68.0 L 53.0,68.0 L 65.0,68.0 L 73.0,68.0 L 115.0,68.0 L 126.0,68.0 L 138.0,68.0 L 14.0,69.0 L 26.0,69.0 L 53.0,69.0 L 65.0,69.0 L 73.0,69.0 L 115.0,69.0 L 126.0,69.0 L 138.0,69.0 L 14.0,70.0 L 26.0,70.0 L 53.0,70.0 L 65.0,70.0 L 73.0,70.0 L 115.0,70.0 L 126.0,70.0 L 138.0,70.0 L 14.0,71.0 L 26.0,71.0 L 53.0,71.0 L 65.0,71.0 L 73.0,71.0 L 115.0,71.0 L 126.0,71.0 L 138.0,71.0 L 14.0,72.0 L 26.0,72.0 L 53.0,72.0 L 65.0,72.0 L 73.0,72.0 L 115.0,72.0 L 127.0,72.0 L 138.0,72.0 L 14.0,73.0 L 26.0,73.0 L 53.0,73.0 L 65.0,73.0 L 73.0,73.0 L 115.0,73.0 L 127.0,73.0 L 138.0,73.0 L 14.0,74.0 L 26.0,74.0 L 53.0,74.0 L 65.0,74.0 L 73.0,74.0 L 87.0,74.0 L 88.0,74.0 L 89.0,74.0 L 90.0,74.0 L 91.0,74.0 L 92.0,74.0 L 93.0,74.0 L 94.0,74.0 L 95.0,74.0 L 96.0,74.0 L 97.0,74.0 L 98.0,74.0 L 99.0,74.0 L 100.0,74.0 L 101.0,74.0 L 102.0,74.0 L 103.0,74.0 L 104.0,74.0 L 105.0,74.0 L 106.0,74.0 L 107.0,74.0 L 108.0,74.0 L 109.0,74.0 L 110.0,74.0 L 111.0,74.0 L 112.0,74.0 L 113.0,74.0 L 114.0,74.0 L 115.0,74.0 L 127.0,74.0 L 139.0,74.0 L 14.0,75.0 L 26.0,75.0 L 53.0,75.0 L 64.0,75.0 L 73.0,75.0 L 86.0,75.0 L 127.0,75.0 L 139.0,75.0 L 14.0,76.0 L 26.0,76.0 L 52.0,76.0 L 64.0,76.0 L 73.0,76.0 L 85.0,76.0 L 127.0,76.0 L 139.0,76.0 L 14.0,77.0 L 26.0,77.0 L 52.0,77.0 L 64.0,77.0 L 73.0,77.0 L 85.0,77.0 L 127.0,77.0 L 139.0,77.0 L 14.0,78.0 L 26.0,78.0 L 52.0,78.0 L 64.0,78.0 L 73.0,78.0 L 85.0,78.0 L 127.0,78.0 L 139.0,78.0 L 14.0,79.0 L 26.0,79.0 L 52.0,79.0 L 64.0,79.0 L 73.0,79.0 L 85.0,79.0 L 127.0,79.0 L 140.0,79.0 L 14.0,80.0 L 26.0,80.0 L 52.0,80.0 L 64.0,80.0 L 73.0,80.0 L 85.0,80.0 L 128.0,80.0 L 140.0,80.0 L 14.0,81.0 L 26.0,81.0 L 51.0,81.0 L 64.0,81.0 L 73.0,81.0 L 85.0,81.0 L 128.0,81.0 L 140.0,81.0 L 170.0,81.0 L 171.0,81.0 L 172.0,81.0 L 173.0,81.0 L 14.0,82.0 L 26.0,82.0 L 51.0,82.0 L 63.0,82.0 L 73.0,82.0 L 85.0,82.0 L 128.0,82.0 L 140.0,82.0 L 169.0,82.0 L 174.0,82.0 L 175.0,82.0 L 14.0,83.0 L 26.0,83.0 L 51.0,83.0 L 63.0,83.0 L 73.0,83.0 L 85.0,83.0 L 128.0,83.0 L 141.0,83.0 L 169.0,83.0 L 176.0,83.0 L 177.0,83.0 L 14.0,84.0 L 26.0,84.0 L 50.0,84.0 L 63.0,84.0 L 73.0,84.0 L 85.0,84.0 L 129.0,84.0 L 141.0,84.0 L 169.0,84.0 L 178.0,84.0 L 179.0,84.0 L 14.0,85.0 L 26.0,85.0 L 49.0,85.0 L 50.0,85.0 L 63.0,85.0 L 73.0,85.0 L 85.0,85.0 L 129.0,85.0 L 142.0,85.0 L 168.0,85.0 L 180.0,85.0 L 14.0,86.0 L 26.0,86.0 L 49.0,86.0 L 62.0,86.0 L 73.0,86.0 L 85.0,86.0 L 129.0,86.0 L 142.0,86.0 L 168.0,86.0 L 180.0,86.0 L 14.0,87.0 L 26.0,87.0 L 48.0,87.0 L 62.0,87.0 L 73.0,87.0 L 85.0,87.0 L 130.0,87.0 L 143.0,87.0 L 167.0,87.0 L 180.0,87.0 L 14.0,88.0 L 26.0,88.0 L 47.0,88.0 L 48.0,88.0 L 61.0,88.0 L 73.0,88.0 L 85.0,88.0 L 130.0,88.0 L 143.0,88.0 L 144.0,88.0 L 166.0,88.0 L 167.0,88.0 L 179.0,88.0 L 14.0,89.0 L 26.0,89.0 L 46.0,89.0 L 47.0,89.0 L 61.0,89.0 L 73.0,89.0 L 85.0,89.0 L 131.0,89.0 L 144.0,89.0 L 145.0,89.0 L 165.0,89.0 L 166.0,89.0 L 179.0,89.0 L 14.0,90.0 L 26.0,90.0 L 44.0,90.0 L 45.0,90.0 L 60.0,90.0 L 73.0,90.0 L 85.0,90.0 L 131.0,90.0 L 145.0,90.0 L 146.0,90.0 L 164.0,90.0 L 165.0,90.0 L 178.0,90.0 L 14.0,91.0 L 26.0,91.0 L 42.0,91.0 L 43.0,91.0 L 44.0,91.0 L 60.0,91.0 L 73.0,91.0 L 85.0,91.0 L 132.0,91.0 L 146.0,91.0 L 147.0,91.0 L 163.0,91.0 L 164.0,91.0 L 178.0,91.0 L 14.0,92.0 L 27.0,92.0 L 28.0,92.0 L 29.0,92.0 L 30.0,92.0 L 31.0,92.0 L 32.0,92.0 L 33.0,92.0 L 34.0,92.0 L 35.0,92.0 L 36.0,92.0 L 37.0,92.0 L 38.0,92.0 L 39.0,92.0 L 40.0,92.0 L 41.0,92.0 L 59.0,92.0 L 73.0,92.0 L 86.0,92.0 L 87.0,92.0 L 88.0,92.0 L 89.0,92.0 L 90.0,92.0 L 91.0,92.0 L 92.0,92.0 L 93.0,92.0 L 94.0,92.0 L 95.0,92.0 L 96.0,92.0 L 97.0,92.0 L 98.0,92.0 L 99.0,92.0 L 100.0,92.0 L 101.0,92.0 L 102.0,92.0 L 103.0,92.0 L 104.0,92.0 L 105.0,92.0 L 106.0,92.0 L 107.0,92.0 L 108.0,92.0 L 109.0,92.0 L 110.0,92.0 L 111.0,92.0 L 112.0,92.0 L 113.0,92.0 L 114.0,92.0 L 115.0,92.0 L 116.0,92.0 L 117.0,92.0 L 118.0,92.0 L 132.0,92.0 L 148.0,92.0 L 149.0,92.0 L 150.0,92.0 L 161.0,92.0 L 162.0,92.0 L 177.0,92.0 L 14.0,93.0 L 58.0,93.0 L 59.0,93.0 L 73.0,93.0 L 119.0,93.0 L 133.0,93.0 L 151.0,93.0 L 152.0,93.0 L 153.0,93.0 L 154.0,93.0 L 155.0,93.0 L 156.0,93.0 L 157.0,93.0 L 158.0,93.0 L 159.0,93.0 L 160.0,93.0 L 176.0,93.0 L 177.0,93.0 L 14.0,94.0 L 57.0,94.0 L 58.0,94.0 L 73.0,94.0 L 119.0,94.0 L 133.0,94.0 L 134.0,94.0 L 176.0,94.0 L 14.0,95.0 L 57.0,95.0 L 73.0,95.0 L 119.0,95.0 L 134.0,95.0 L 135.0,95.0 L 175.0,95.0 L 14.0,96.0 L 56.0,96.0 L 73.0,96.0 L 119.0,96.0 L 135.0,96.0 L 174.0,96.0 L 175.0,96.0 L 14.0,97.0 L 55.0,97.0 L 56.0,97.0 L 73.0,97.0 L 119.0,97.0 L 136.0,97.0 L 173.0,97.0 L 174.0,97.0 L 14.0,98.0 L 53.0,98.0 L 54.0,98.0 L 73.0,98.0 L 119.0,98.0 L 137.0,98.0 L 138.0,98.0 L 172.0,98.0 L 173.0,98.0 L 14.0,99.0 L 52.0,99.0 L 53.0,99.0 L 73.0,99.0 L 119.0,99.0 L 138.0,99.0 L 139.0,99.0 L 171.0,99.0 L 172.0,99.0 L 14.0,100.0 L 50.0,100.0 L 51.0,100.0 L 73.0,100.0 L 119.0,100.0 L 139.0,100.0 L 140.0,100.0 L 170.0,100.0 L 171.0,100.0 L 14.0,101.0 L 48.0,101.0 L 49.0,101.0 L 50.0,101.0 L 73.0,101.0 L 119.0,101.0 L 141.0,101.0 L 142.0,101.0 L 168.0,101.0 L 169.0,101.0 L 14.0,102.0 L 44.0,102.0 L 45.0,102.0 L 46.0,102.0 L 47.0,102.0 L 73.0,102.0 L 119.0,102.0 L 143.0,102.0 L 144.0,102.0 L 166.0,102.0 L 167.0,102.0 L 15.0,103.0 L 16.0,103.0 L 17.0,103.0 L 18.0,103.0 L 19.0,103.0 L 20.0,103.0 L 21.0,103.0 L 22.0,103.0 L 23.0,103.0 L 24.0,103.0 L 25.0,103.0 L 26.0,103.0 L 27.0,103.0 L 28.0,103.0 L 29.0,103.0 L 30.0,103.0 L 31.0,103.0 L 32.0,103.0 L 33.0,103.0 L 34.0,103.0 L 35.0,103.0 L 36.0,103.0 L 37.0,103.0 L 38.0,103.0 L 39.0,103.0 L 40.0,103.0 L 41.0,103.0 L 42.0,103.0 L 43.0,103.0 L 74.0,103.0 L 75.0,103.0 L 76.0,103.0 L 77.0,103.0 L 78.0,103.0 L 79.0,103.0 L 80.0,103.0 L 81.0,103.0 L 82.0,103.0 L 83.0,103.0 L 84.0,103.0 L 85.0,103.0 L 86.0,103.0 L 87.0,103.0 L 88.0,103.0 L 89.0,103.0 L 90.0,103.0 L 91.0,103.0 L 92.0,103.0 L 93.0,103.0 L 94.0,103.0 L 95.0,103.0 L 96.0,103.0 L 97.0,103.0 L 98.0,103.0 L 99.0,103.0 L 100.0,103.0 L 101.0,103.0 L 102.0,103.0 L 103.0,103.0 L 104.0,103.0 L 105.0,103.0 L 106.0,103.0 L 107.0,103.0 L 108.0,103.0 L 109.0,103.0 L 110.0,103.0 L 111.0,103.0 L 112.0,103.0 L 113.0,103.0 L 114.0,103.0 L 115.0,103.0 L 116.0,103.0 L 117.0,103.0 L 118.0,103.0 L 119.0,103.0 L 145.0,103.0 L 146.0,103.0 L 147.0,103.0 L 148.0,103.0 L 162.0,103.0 L 163.0,103.0 L 164.0,103.0 L 165.0,103.0 L 149.0,104.0 L 150.0,104.0 L 151.0,104.0 L 152.0,104.0 L 153.0,104.0 L 154.0,104.0 L 155.0,104.0 L 156.0,104.0 L 157.0,104.0 L 158.0,104.0 L 159.0,104.0 L 160.0,104.0 L 161.0,104.0 L 150.0,33.0 z\" /></g></svg>"
      ],
      "text/plain": [
       "<POLYGON ((150 33, 151 33, 152 33, 153 33, 154 33, 155 33, 156 33, 157 33, 1...>"
      ]
     },
     "execution_count": 71,
     "metadata": {},
     "output_type": "execute_result"
    },
    {
     "data": {
      "image/png": "[encoded data removed]",
      "text/plain": [
       "<Figure size 640x480 with 1 Axes>"
      ]
     },
     "metadata": {},
     "output_type": "display_data"
    }
   ],
   "source": [
    "edges = cv2.Canny(img,127,255)\n",
    "\n",
    "plt.subplot(122),plt.imshow(edges,cmap = 'gray')\n",
    "plt.title('Edge Image'), plt.xticks([]), plt.yticks([])\n",
    "\n",
    "indices = np.where(edges != 0)\n",
    "coordinates = list(zip(indices[1], indices[0]))\n",
    "raText = Polygon([Point(seg[0:2]) for seg in coordinates])\n",
    "raText"
   ]
  },
  {
   "cell_type": "code",
   "execution_count": 72,
   "id": "2c2c0752",
   "metadata": {},
   "outputs": [
    {
     "data": {
      "text/plain": [
       "255"
      ]
     },
     "execution_count": 72,
     "metadata": {},
     "output_type": "execute_result"
    }
   ],
   "source": [
    "edges.max()"
   ]
  },
  {
   "cell_type": "code",
   "execution_count": null,
   "id": "b7d55b3a-08f4-4087-bc5a-3eac5867fa76",
   "metadata": {},
   "outputs": [],
   "source": [
    "c1, c2 = make_circle(136, 2, 0, 0, 200), make_circle(65, 3, 0, 0, 200)\n",
    "segs = [ *c1, *c2]\n",
    "kcwishape = [ [ [x[0], x[1]] for x in c1 ], [ [ x[0], x[1] ] for x in c2 ] ]\n",
    "\n",
    "instGeoJSON = { \"type\": \"FeatureCollection\",\n",
    "    \"features\": [\n",
    "{ \n",
    "  \"type\": \"Feature\",\n",
    "  \"properties\": {\"instrument\": \"KCWI\", \"type\": \"FOV\"},\n",
    "  \"geometry\": {\n",
    "    \"type\": \"MultiPolygon\",\n",
    "    \"coordinates\": \n",
    "      kcwishape\n",
    "    }\n",
    "},\n",
    "        { \n",
    "  \"type\": \"Feature\",\n",
    "  \"properties\": {\"instrument\": \"MOSFIRE\", \"type\": \"FOV\"},\n",
    "  \"geometry\": {\n",
    "    \"type\": \"MultiPolygon\",\n",
    "    \"coordinates\": \n",
    "      [mosfireshape]\n",
    "    }\n",
    "}\n",
    ",\n",
    "        { \n",
    "  \"type\": \"Feature\",\n",
    "  \"properties\": {\"name\": \"CompassRose\", \"type\": \"static shape\"},\n",
    "  \"geometry\": {\n",
    "    \"type\": \"MultiPolygon\",\n",
    "    \"coordinates\": \n",
    "      [compasscoords]\n",
    "    }\n",
    "}\n",
    "    ]}\n",
    "with open('INSTRUMENTS_FOV.json', 'w') as f:\n",
    "    json.dump(instGeoJSON, f, indent = 2)"
   ]
  },
  {
   "cell_type": "code",
   "execution_count": 60,
   "id": "03744d7a-9258-4aa0-8aff-5f3fbcc6d037",
   "metadata": {},
   "outputs": [
    {
     "name": "stdout",
     "output_type": "stream",
     "text": [
      "2024-04-04 08:48:41.510667\n",
      "41.1313360730198\n",
      "93.71508772051209\n",
      "[[324.28348417]]\n"
     ]
    }
   ],
   "source": [
    "import numpy as np\n",
    "import matplotlib.pyplot as plt\n",
    "from astropy.visualization import astropy_mpl_style, quantity_support\n",
    "plt.style.use(astropy_mpl_style)\n",
    "quantity_support() \n",
    "import astropy.units as u\n",
    "from astropy.time import Time\n",
    "from datetime import datetime, timedelta\n",
    "from astropy.coordinates import SkyCoord, EarthLocation, AltAz\n",
    "import math\n",
    "import astroplan as apl\n",
    "KECK_LAT = 19.8260 #[deg]\n",
    "KECK_ELEVATION = 4.1449752 # km\n",
    "RADIUS_EARTH = 6378.1000 # km\n",
    "ATMOSPHERE_HEIGHT = 50.000 # km\n",
    "KECK_LONG = 360 - 155.4747 \n",
    "\n",
    "def date_to_juld(date):\n",
    "    return (date.timestamp() / 86400) + 2440587.5 #do not offset\n",
    "    #return (date.timestamp() / 86400)\n",
    "\n",
    "def get_gmt(date=None):\n",
    "    if date is None:\n",
    "        date = datetime.now()\n",
    "    JD = date_to_juld(date)\n",
    "    T = (JD - 2451545) / 36525\n",
    "    ThetaGMST = 67310.54841 + (876600 * 3600 + 8640184.812866) * T + .093104 * (T**2) - (6.2 * 10**-6) * (T**3)\n",
    "    ThetaGMST = (ThetaGMST % (86400 * (ThetaGMST / abs(ThetaGMST))) / 240) % 360\n",
    "\n",
    "    return ThetaGMST\n",
    "\n",
    "def cosd(deg):\n",
    "    return math.cos(math.pi / 180 * deg)\n",
    "\n",
    "def sind(deg):\n",
    "    return math.sin(math.pi / 180 * deg)\n",
    "\n",
    "def tand(deg):\n",
    "    return math.tan(math.pi / 180 * deg)\n",
    "\n",
    "def ra_dec_to_az_alt(ra, dec, date=None):\n",
    "    if date is None:\n",
    "        date = datetime.now()\n",
    "    lngLatEl = { 'lng': KECK_LONG, 'lat': KECK_LAT, 'ele': KECK_ELEVATION }\n",
    "    hourAngle = (get_gmt(date) + lngLatEl['lng'] - ra) % 360\n",
    "    tanAzNum = sind(hourAngle)\n",
    "    tanAzDen = cosd(hourAngle) * sind(lngLatEl['lat']) - tand(dec) * cosd(lngLatEl['lat'])\n",
    "    az = math.atan2(tanAzNum, tanAzDen) + math.pi\n",
    "    sinEl = sind(lngLatEl['lat']) * sind(dec) + cosd(lngLatEl['lat']) * cosd(dec) * cosd(hourAngle)\n",
    "    el = math.asin(sinEl)\n",
    "    return [(180 / math.pi * az), (180 / math.pi * el)]\n",
    "\n",
    "ra = 10.0\n",
    "dec = 10.0\n",
    "date = datetime.now()\n",
    "py_alt_az = ra_dec_to_az_alt(ra, dec, date)\n",
    "\n",
    "keck = EarthLocation(lat=KECK_LAT*u.deg, lon=KECK_LONG*u.deg, height=KECK_ELEVATION*u.m)\n",
    "coord = SkyCoord(ra=ra * u.degree, dec=dec * u.degree, frame='icrs')\n",
    "\n",
    "#coord = SkyCoord(ra * u.hourangle, dec * u.deg, frame=\"icrs\")\n",
    "target = apl.FixedTarget(name='tgt', coord=coord)\n",
    "time = Time(date +timedelta(hours=10))\n",
    "ap_alt_az = coord.transform_to(AltAz(obstime=time,location=keck))\n",
    "\n",
    "keckap = apl.Observer.at_site(\"W. M. Keck Observatory\")\n",
    "altaz = keckap.altaz(date, target, grid_times_targets=True)\n",
    "print(date)\n",
    "print(py_alt_az[1])\n",
    "print(ap_alt_az.az.value)\n",
    "print(altaz.az.value)\n"
   ]
  },
  {
   "cell_type": "code",
   "execution_count": 53,
   "id": "b38761a4-587d-4436-a844-4013036e84c6",
   "metadata": {},
   "outputs": [
    {
     "name": "stderr",
     "output_type": "stream",
     "text": [
      "/home/tyler/anaconda3/envs/firstEnv/lib/python3.10/site-packages/erfa/core.py:154: ErfaWarning: ERFA function \"dtf2d\" yielded 1 of \"dubious year (Note 6)\"\n",
      "  warnings.warn('ERFA function \"{}\" yielded {}'.format(func_name, wmsg),\n",
      "/home/tyler/anaconda3/envs/firstEnv/lib/python3.10/site-packages/erfa/core.py:154: ErfaWarning: ERFA function \"utctai\" yielded 1 of \"dubious year (Note 3)\"\n",
      "  warnings.warn('ERFA function \"{}\" yielded {}'.format(func_name, wmsg),\n",
      "WARNING: Tried to get polar motions for times after IERS data is valid. Defaulting to polar motion from the 50-yr mean for those. This may affect precision at the arcsec level. Please check your astropy.utils.iers.conf.iers_auto_url and point it to a newer version if necessary. [astropy.coordinates.builtin_frames.utils]\n",
      "/home/tyler/anaconda3/envs/firstEnv/lib/python3.10/site-packages/erfa/core.py:154: ErfaWarning: ERFA function \"utcut1\" yielded 1 of \"dubious year (Note 3)\"\n",
      "  warnings.warn('ERFA function \"{}\" yielded {}'.format(func_name, wmsg),\n",
      "/home/tyler/anaconda3/envs/firstEnv/lib/python3.10/site-packages/erfa/core.py:154: ErfaWarning: ERFA function \"taiutc\" yielded 1 of \"dubious year (Note 4)\"\n",
      "  warnings.warn('ERFA function \"{}\" yielded {}'.format(func_name, wmsg),\n"
     ]
    }
   ],
   "source": [
    "from random import randrange\n",
    "from datetime import timedelta\n",
    "d1 = datetime.strptime('1/1/2008 1:30 PM', '%m/%d/%Y %I:%M %p')\n",
    "d2 = datetime.strptime('1/1/2039 4:50 AM', '%m/%d/%Y %I:%M %p')\n",
    "\n",
    "\n",
    "def random_date(start, end):\n",
    "    \"\"\"\n",
    "    This function will return a random datetime between two datetime \n",
    "    objects.\n",
    "    \"\"\"\n",
    "    delta = end - start\n",
    "    int_delta = (delta.days * 24 * 60 * 60) + delta.seconds\n",
    "    random_second = randrange(int_delta)\n",
    "    return start + timedelta(seconds=random_second)\n",
    "\n",
    "data = []\n",
    "for _ in range(10**2):\n",
    "    date = random_date(d1, d2)\n",
    "    ra = np.random.uniform(0, 360)\n",
    "    dec = np.random.uniform(-90, 90)\n",
    "    coord = SkyCoord(ra=ra * u.degree, dec=dec * u.degree, frame='icrs')\n",
    "    target = apl.FixedTarget(name='tgt', coord=coord)\n",
    "    time = Time(date +timedelta(hours=10))\n",
    "    ap_alt_az = coord.transform_to(AltAz(obstime=time,location=keck))\n",
    "    py_alt_az = ra_dec_to_az_alt(ra, dec, date)\n",
    "    datum = {\n",
    "        'ra': ra, 'dec': dec, 'date': date,\n",
    "        'ap_az': ap_alt_az.az.value, 'ap_alt': ap_alt_az.alt.value,\n",
    "        'py_alt': py_alt_az[0], 'py_az': py_alt_az[1],\n",
    "        'alt_err': py_alt_az[0] - ap_alt_az.alt.value,\n",
    "        'az_err': py_alt_az[1] - ap_alt_az.az.value,\n",
    "    }\n",
    "    # data.append({\n",
    "    #     'ra': ra, 'dec': dec, 'date': date, 'model': 'astropy',\n",
    "    #     'az': ap_alt_az.az.value })\n",
    "    # data.append({\n",
    "    #     'ra': ra, 'dec': dec, 'date': date, 'model': 'tyler',\n",
    "    #     'az': py_alt_az[0] })\n",
    "\n",
    "    data.append(datum)"
   ]
  },
  {
   "cell_type": "code",
   "execution_count": 54,
   "id": "a69c6ff8-1b79-41ca-bb19-35e8074c5a83",
   "metadata": {},
   "outputs": [
    {
     "data": {
      "text/plain": [
       "{'ra': 298.833240003677,\n",
       " 'dec': -51.232171448000216,\n",
       " 'date': datetime.datetime(2034, 9, 30, 10, 41, 2),\n",
       " 'ap_az': 142.69624059007836,\n",
       " 'ap_alt': -42.97985268057952,\n",
       " 'py_alt': 142.58123330917988,\n",
       " 'py_az': -42.566513208624585,\n",
       " 'alt_err': 185.5610859897594,\n",
       " 'az_err': -185.26275379870293}"
      ]
     },
     "execution_count": 54,
     "metadata": {},
     "output_type": "execute_result"
    }
   ],
   "source": [
    "data[0]"
   ]
  },
  {
   "cell_type": "code",
   "execution_count": 56,
   "id": "0b5979d1-e055-4879-9f99-424a4323d502",
   "metadata": {},
   "outputs": [
    {
     "data": {
      "text/plain": [
       "<AxesSubplot: xlabel='az_err', ylabel='Count'>"
      ]
     },
     "execution_count": 56,
     "metadata": {},
     "output_type": "execute_result"
    },
    {
     "data": {
      "image/png": "[encoded data removed]",
      "text/plain": [
       "<Figure size 800x600 with 1 Axes>"
      ]
     },
     "metadata": {},
     "output_type": "display_data"
    }
   ],
   "source": [
    "import seaborn as sns\n",
    "import pandas as pd\n",
    "sns.set_theme(style=\"ticks\")\n",
    "\n",
    "#df = sns.load_dataset(\"penguins\")\n",
    "df = pd.DataFrame(data)\n",
    "#sns.pairplot(df, hue=\"az_err\")\n",
    "#sns.boxplot(y='az_err',data=df)\n",
    "sns.histplot(data=df, x=\"az_err\")"
   ]
  },
  {
   "cell_type": "code",
   "execution_count": 2,
   "id": "2f930955-1063-4535-9a5e-4b2d791d5e50",
   "metadata": {},
   "outputs": [
    {
     "name": "stdout",
     "output_type": "stream",
     "text": [
      "3.72 µs ± 48.8 ns per loop (mean ± std. dev. of 7 runs, 100,000 loops each)\n"
     ]
    }
   ],
   "source": [
    "%%timeit\n",
    "ra_dec_to_az_alt(ra, dec, date)"
   ]
  },
  {
   "cell_type": "code",
   "execution_count": 3,
   "id": "44df9def-9fb0-41bf-b8c3-5a8b1be1cd00",
   "metadata": {},
   "outputs": [],
   "source": [
    "keck = EarthLocation(lat=KECK_LAT*u.deg, lon=KECK_LONG*u.deg, height=KECK_ELEVATION*u.m)"
   ]
  },
  {
   "cell_type": "code",
   "execution_count": 4,
   "id": "9306c1fa-2be5-4477-82ae-bad66e893e59",
   "metadata": {},
   "outputs": [
    {
     "name": "stderr",
     "output_type": "stream",
     "text": [
      "UsageError: Line magic function `%%timeit` not found.\n"
     ]
    }
   ],
   "source": [
    "%%timeit\n",
    "coord.transform_to(AltAz(obstime=Time(date, scale='utc'),location=keck))"
   ]
  },
  {
   "cell_type": "code",
   "execution_count": 5,
   "id": "5a65e061-b8da-467f-bdf9-df283b798e60",
   "metadata": {},
   "outputs": [],
   "source": [
    "keck = apl.Observer.at_site(\"W. M. Keck Observatory\")"
   ]
  },
  {
   "cell_type": "code",
   "execution_count": 6,
   "id": "c6239b1b-f267-4bb3-bbb3-d196e9b18cc2",
   "metadata": {},
   "outputs": [
    {
     "name": "stdout",
     "output_type": "stream",
     "text": [
      "4.48 ms ± 257 µs per loop (mean ± std. dev. of 7 runs, 100 loops each)\n"
     ]
    }
   ],
   "source": [
    "%%timeit\n",
    "altaz = keck.altaz(date, target, grid_times_targets=True)"
   ]
  },
  {
   "cell_type": "code",
   "execution_count": null,
   "id": "0a8d9601-c91b-4db3-aada-1d27ac68efe8",
   "metadata": {},
   "outputs": [],
   "source": []
  }
 ],
 "metadata": {
  "kernelspec": {
   "display_name": "Python 3",
   "language": "python",
   "name": "python3"
  },
  "language_info": {
   "codemirror_mode": {
    "name": "ipython",
    "version": 3
   },
   "file_extension": ".py",
   "mimetype": "text/x-python",
   "name": "python",
   "nbconvert_exporter": "python",
   "pygments_lexer": "ipython3",
   "version": "3.10.8"
  }
 },
 "nbformat": 4,
 "nbformat_minor": 5
}
